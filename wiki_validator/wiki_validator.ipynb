{
 "cells": [
  {
   "cell_type": "code",
   "execution_count": 1,
   "metadata": {},
   "outputs": [],
   "source": [
    "import pandas as pd\n",
    "import requests"
   ]
  },
  {
   "cell_type": "code",
   "execution_count": 2,
   "metadata": {},
   "outputs": [
    {
     "data": {
      "text/html": [
       "<div>\n",
       "<style scoped>\n",
       "    .dataframe tbody tr th:only-of-type {\n",
       "        vertical-align: middle;\n",
       "    }\n",
       "\n",
       "    .dataframe tbody tr th {\n",
       "        vertical-align: top;\n",
       "    }\n",
       "\n",
       "    .dataframe thead th {\n",
       "        text-align: right;\n",
       "    }\n",
       "</style>\n",
       "<table border=\"1\" class=\"dataframe\">\n",
       "  <thead>\n",
       "    <tr style=\"text-align: right;\">\n",
       "      <th></th>\n",
       "      <th>ID</th>\n",
       "      <th>NAME</th>\n",
       "      <th>WIKI_PAGE</th>\n",
       "      <th>Status_Code</th>\n",
       "    </tr>\n",
       "  </thead>\n",
       "  <tbody>\n",
       "    <tr>\n",
       "      <th>0</th>\n",
       "      <td>e66912fa8bf67ef6c7fa974ac93bac72</td>\n",
       "      <td>Lyn Z</td>\n",
       "      <td>Lyn_Z</td>\n",
       "      <td>200.0</td>\n",
       "    </tr>\n",
       "    <tr>\n",
       "      <th>1</th>\n",
       "      <td>3d4a232524cde73e7b1725cdc663bb4b</td>\n",
       "      <td>Morton Dauwen Zabel</td>\n",
       "      <td>Morton_Dauwen_Zabel</td>\n",
       "      <td>200.0</td>\n",
       "    </tr>\n",
       "    <tr>\n",
       "      <th>2</th>\n",
       "      <td>fe332275caf5b3ecb55c1a5cd82a959a</td>\n",
       "      <td>William Zabka</td>\n",
       "      <td>William_Zabka</td>\n",
       "      <td>200.0</td>\n",
       "    </tr>\n",
       "    <tr>\n",
       "      <th>3</th>\n",
       "      <td>a57ebea4e9bd96ea6ef1fa644ad627bb</td>\n",
       "      <td>Grace Zabriskie</td>\n",
       "      <td>Grace_Zabriskie</td>\n",
       "      <td>200.0</td>\n",
       "    </tr>\n",
       "    <tr>\n",
       "      <th>4</th>\n",
       "      <td>438e93f6240803b56b3fc6309645e04d</td>\n",
       "      <td>John L. Zabriskie</td>\n",
       "      <td>John_L._Zabriskie</td>\n",
       "      <td>404.0</td>\n",
       "    </tr>\n",
       "  </tbody>\n",
       "</table>\n",
       "</div>"
      ],
      "text/plain": [
       "                                 ID                 NAME            WIKI_PAGE  \\\n",
       "0  e66912fa8bf67ef6c7fa974ac93bac72                Lyn Z                Lyn_Z   \n",
       "1  3d4a232524cde73e7b1725cdc663bb4b  Morton Dauwen Zabel  Morton_Dauwen_Zabel   \n",
       "2  fe332275caf5b3ecb55c1a5cd82a959a        William Zabka        William_Zabka   \n",
       "3  a57ebea4e9bd96ea6ef1fa644ad627bb      Grace Zabriskie      Grace_Zabriskie   \n",
       "4  438e93f6240803b56b3fc6309645e04d    John L. Zabriskie    John_L._Zabriskie   \n",
       "\n",
       "   Status_Code  \n",
       "0        200.0  \n",
       "1        200.0  \n",
       "2        200.0  \n",
       "3        200.0  \n",
       "4        404.0  "
      ]
     },
     "execution_count": 2,
     "metadata": {},
     "output_type": "execute_result"
    }
   ],
   "source": [
    "\n",
    "# Sample CSV data, for demonstration purposes\n",
    "df = pd.read_csv(\"wiki_with_code.csv\")\n",
    "df.head()"
   ]
  },
  {
   "cell_type": "code",
   "execution_count": 3,
   "metadata": {},
   "outputs": [
    {
     "data": {
      "text/plain": [
       "Status_Code\n",
       "200.0    35645\n",
       "404.0     4686\n",
       "Name: count, dtype: int64"
      ]
     },
     "execution_count": 3,
     "metadata": {},
     "output_type": "execute_result"
    }
   ],
   "source": [
    "df['Status_Code'].value_counts()"
   ]
  },
  {
   "cell_type": "code",
   "execution_count": 4,
   "metadata": {},
   "outputs": [
    {
     "data": {
      "text/plain": [
       "11.6"
      ]
     },
     "execution_count": 4,
     "metadata": {},
     "output_type": "execute_result"
    }
   ],
   "source": [
    "count_200 = df['Status_Code'].value_counts().get(200, 0)\n",
    "count_404 = df['Status_Code'].value_counts().get(404, 0)\n",
    "\n",
    "#Find percent failed\n",
    "round(count_404 / (count_404 + count_200) * 100, 1)"
   ]
  },
  {
   "cell_type": "code",
   "execution_count": 5,
   "metadata": {},
   "outputs": [
    {
     "data": {
      "text/plain": [
       "40331"
      ]
     },
     "execution_count": 5,
     "metadata": {},
     "output_type": "execute_result"
    }
   ],
   "source": [
    "count_404 + count_200"
   ]
  },
  {
   "cell_type": "code",
   "execution_count": 6,
   "metadata": {},
   "outputs": [],
   "source": [
    "# Function to check the status code of a Wikipedia page\n",
    "def check_wiki_status(wiki_page):\n",
    "    url = f\"https://en.wikipedia.org/wiki/{wiki_page}\"\n",
    "    try:\n",
    "        response = requests.get(url)\n",
    "        return response.status_code\n",
    "    except requests.RequestException as e:\n",
    "        return None"
   ]
  },
  {
   "cell_type": "code",
   "execution_count": 7,
   "metadata": {},
   "outputs": [],
   "source": [
    "# Check if 'Status_Code' column exists and filter records without a status code\n",
    "if 'Status_Code' in df.columns:\n",
    "    df_to_process = df[df['Status_Code'].isna()].head(100)\n",
    "else:\n",
    "    df['Status_Code'] = None\n",
    "    df_to_process = df.head(100)\n"
   ]
  },
  {
   "cell_type": "code",
   "execution_count": 8,
   "metadata": {},
   "outputs": [],
   "source": [
    "# Update the DataFrame with new status codes\n",
    "df_to_process['Status_Code'] = df_to_process['WIKI_PAGE'].apply(check_wiki_status)"
   ]
  },
  {
   "cell_type": "code",
   "execution_count": 9,
   "metadata": {},
   "outputs": [],
   "source": [
    "# Merge the updates back to the original DataFrame\n",
    "df.update(df_to_process)"
   ]
  },
  {
   "cell_type": "code",
   "execution_count": 10,
   "metadata": {},
   "outputs": [
    {
     "data": {
      "text/plain": [
       "Status_Code\n",
       "200.0    35645\n",
       "404.0     4686\n",
       "Name: count, dtype: int64"
      ]
     },
     "execution_count": 10,
     "metadata": {},
     "output_type": "execute_result"
    }
   ],
   "source": [
    "df['Status_Code'].value_counts()"
   ]
  },
  {
   "cell_type": "code",
   "execution_count": 11,
   "metadata": {},
   "outputs": [
    {
     "data": {
      "text/plain": [
       "0"
      ]
     },
     "execution_count": 11,
     "metadata": {},
     "output_type": "execute_result"
    }
   ],
   "source": [
    "len(df[df['Status_Code'].isna()])"
   ]
  },
  {
   "cell_type": "code",
   "execution_count": 12,
   "metadata": {},
   "outputs": [],
   "source": [
    "df.to_csv(\"wiki_with_code.csv\", index=False)"
   ]
  },
  {
   "cell_type": "code",
   "execution_count": null,
   "metadata": {},
   "outputs": [],
   "source": []
  }
 ],
 "metadata": {
  "kernelspec": {
   "display_name": "venv",
   "language": "python",
   "name": "python3"
  },
  "language_info": {
   "codemirror_mode": {
    "name": "ipython",
    "version": 3
   },
   "file_extension": ".py",
   "mimetype": "text/x-python",
   "name": "python",
   "nbconvert_exporter": "python",
   "pygments_lexer": "ipython3",
   "version": "3.11.6"
  }
 },
 "nbformat": 4,
 "nbformat_minor": 2
}
