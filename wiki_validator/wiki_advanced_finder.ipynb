{
 "cells": [
  {
   "cell_type": "markdown",
   "metadata": {},
   "source": [
    "## Try to Figure Out a Better URL\n",
    "\n",
    "Original counts \n",
    "\n",
    "```\n",
    "Status_Code\n",
    "200.0    35645\n",
    "404.0     4686\n",
    "Name: count, dtype: int64\n",
    "```"
   ]
  },
  {
   "cell_type": "code",
   "execution_count": 1,
   "metadata": {},
   "outputs": [],
   "source": [
    "import pandas as pd\n",
    "import requests"
   ]
  },
  {
   "cell_type": "code",
   "execution_count": 2,
   "metadata": {},
   "outputs": [],
   "source": [
    "def similarity_score(name, title):\n",
    "    name_words = set(name.lower().replace('.', '').split())\n",
    "    title_words = set(title.lower().replace('.', '').split())\n",
    "    common_words = name_words.intersection(title_words)\n",
    "    return len(common_words) / max(len(name_words), len(title_words))"
   ]
  },
  {
   "cell_type": "code",
   "execution_count": 3,
   "metadata": {},
   "outputs": [],
   "source": [
    "def get_wikipedia_url(name):\n",
    "    endpoint = \"https://en.wikipedia.org/w/api.php\"\n",
    "    params = {\n",
    "        \"action\": \"query\",\n",
    "        \"format\": \"json\",\n",
    "        \"list\": \"search\",\n",
    "        \"srsearch\": name\n",
    "    }\n",
    "    response = requests.get(endpoint, params=params)\n",
    "    data = response.json()\n",
    "\n",
    "    if data[\"query\"][\"search\"]:\n",
    "        search_result_title = data[\"query\"][\"search\"][0][\"title\"]\n",
    "\n",
    "        # Calculate similarity score between search query and result title\n",
    "        score = similarity_score(name, search_result_title)\n",
    "\n",
    "        # Check if score is above a certain threshold (e.g., 0.5)\n",
    "        if score > 0.5:\n",
    "            title = search_result_title.replace(' ', '_')\n",
    "            return f\"https://en.wikipedia.org/wiki/{title}\"\n",
    "        else:\n",
    "            return \"No Wikipedia page found\"\n",
    "    else:\n",
    "        return \"No Wikipedia page found\""
   ]
  },
  {
   "cell_type": "code",
   "execution_count": 4,
   "metadata": {},
   "outputs": [],
   "source": [
    "# Load CSV into Pandas DataFrame\n",
    "df = pd.read_csv('wiki_with_second_pass.csv')"
   ]
  },
  {
   "cell_type": "code",
   "execution_count": 5,
   "metadata": {},
   "outputs": [
    {
     "data": {
      "text/plain": [
       "Status_Code\n",
       "200.0    35803\n",
       "404.0     4528\n",
       "Name: count, dtype: int64"
      ]
     },
     "execution_count": 5,
     "metadata": {},
     "output_type": "execute_result"
    }
   ],
   "source": [
    "df['Status_Code'].value_counts()"
   ]
  },
  {
   "cell_type": "code",
   "execution_count": 6,
   "metadata": {},
   "outputs": [],
   "source": [
    "#  Process in chunks of 100 until no more rows with Status_Code 404\n",
    "df_to_process = df[df['Status_Code'] == 404.0]  # .head(1000)\n",
    "\n",
    "for index, row in df_to_process.iterrows():\n",
    "    new_url = get_wikipedia_url(row['NAME'])\n",
    "    if new_url != \"No Wikipedia page found\":\n",
    "        df.at[index, 'WIKI_PAGE'] = new_url.split('/')[-1]\n",
    "        df.at[index, 'Status_Code'] = 200.0  # Update status code if page is found\n"
   ]
  },
  {
   "cell_type": "code",
   "execution_count": 7,
   "metadata": {},
   "outputs": [],
   "source": [
    "# Save the updated DataFrame back to CSV\n",
    "df.to_csv('wiki_with_second_pass.csv', index=False)"
   ]
  },
  {
   "cell_type": "code",
   "execution_count": 8,
   "metadata": {},
   "outputs": [
    {
     "data": {
      "text/plain": [
       "Status_Code\n",
       "200.0    36423\n",
       "404.0     3908\n",
       "Name: count, dtype: int64"
      ]
     },
     "execution_count": 8,
     "metadata": {},
     "output_type": "execute_result"
    }
   ],
   "source": [
    "df['Status_Code'].value_counts()"
   ]
  },
  {
   "cell_type": "code",
   "execution_count": 9,
   "metadata": {},
   "outputs": [
    {
     "data": {
      "text/plain": [
       "9.7"
      ]
     },
     "execution_count": 9,
     "metadata": {},
     "output_type": "execute_result"
    }
   ],
   "source": [
    "count_200 = df['Status_Code'].value_counts().get(200, 0)\n",
    "count_404 = df['Status_Code'].value_counts().get(404, 0)\n",
    "\n",
    "#Find percent failed\n",
    "round(count_404 / (count_404 + count_200) * 100, 1)"
   ]
  },
  {
   "cell_type": "code",
   "execution_count": null,
   "metadata": {},
   "outputs": [],
   "source": []
  }
 ],
 "metadata": {
  "kernelspec": {
   "display_name": "venv",
   "language": "python",
   "name": "python3"
  },
  "language_info": {
   "codemirror_mode": {
    "name": "ipython",
    "version": 3
   },
   "file_extension": ".py",
   "mimetype": "text/x-python",
   "name": "python",
   "nbconvert_exporter": "python",
   "pygments_lexer": "ipython3",
   "version": "3.11.6"
  }
 },
 "nbformat": 4,
 "nbformat_minor": 2
}
