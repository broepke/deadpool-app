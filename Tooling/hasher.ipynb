{
 "cells": [
  {
   "cell_type": "code",
   "execution_count": 1,
   "metadata": {},
   "outputs": [],
   "source": [
    "import streamlit_authenticator as stauth\n",
    "import yaml\n",
    "from yaml.loader import SafeLoader"
   ]
  },
  {
   "cell_type": "code",
   "execution_count": 2,
   "metadata": {},
   "outputs": [],
   "source": [
    "# Get all credentials\n",
    "with open(\"../config.yaml\") as file:\n",
    "    config = yaml.load(file, Loader=SafeLoader)"
   ]
  },
  {
   "cell_type": "code",
   "execution_count": 3,
   "metadata": {},
   "outputs": [
    {
     "name": "stderr",
     "output_type": "stream",
     "text": [
      "2024-01-12 10:03:49.801 \n",
      "  \u001b[33m\u001b[1mWarning:\u001b[0m to view this Streamlit app on a browser, run it with the following\n",
      "  command:\n",
      "\n",
      "    streamlit run /Users/brianroepke/Projects/deadpool-app/venv/lib/python3.11/site-packages/ipykernel_launcher.py [ARGUMENTS]\n",
      "2024-01-12 10:03:49.802 Session state does not function when running a script without `streamlit run`\n"
     ]
    }
   ],
   "source": [
    "authenticator = stauth.Authenticate(\n",
    "    config[\"credentials\"],\n",
    "    config[\"cookie\"][\"name\"],\n",
    "    config[\"cookie\"][\"key\"],\n",
    "    config[\"cookie\"][\"expiry_days\"],\n",
    "    config[\"preauthorized\"],\n",
    ")"
   ]
  },
  {
   "cell_type": "code",
   "execution_count": 5,
   "metadata": {},
   "outputs": [
    {
     "name": "stdout",
     "output_type": "stream",
     "text": [
      "\n",
      "$2b$12$HP6CAvAh3HU9VTPqFN5GJOFz3GINAG2YeIf1S2nLTU6ITer/u5lbi\n"
     ]
    }
   ],
   "source": [
    "hashed_passwords = stauth.Hasher(['xxx']).generate()\n",
    "\n",
    "print()\n",
    "print(hashed_passwords[0])"
   ]
  },
  {
   "cell_type": "code",
   "execution_count": null,
   "metadata": {},
   "outputs": [],
   "source": []
  }
 ],
 "metadata": {
  "kernelspec": {
   "display_name": "venv",
   "language": "python",
   "name": "python3"
  },
  "language_info": {
   "codemirror_mode": {
    "name": "ipython",
    "version": 3
   },
   "file_extension": ".py",
   "mimetype": "text/x-python",
   "name": "python",
   "nbconvert_exporter": "python",
   "pygments_lexer": "ipython3",
   "version": "3.11.5"
  }
 },
 "nbformat": 4,
 "nbformat_minor": 2
}
